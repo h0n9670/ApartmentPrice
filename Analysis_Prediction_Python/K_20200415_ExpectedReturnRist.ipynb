{
 "nbformat": 4,
 "nbformat_minor": 2,
 "metadata": {
  "language_info": {
   "name": "python",
   "codemirror_mode": {
    "name": "ipython",
    "version": 3
   },
   "version": "3.7.4-final"
  },
  "orig_nbformat": 2,
  "file_extension": ".py",
  "mimetype": "text/x-python",
  "name": "python",
  "npconvert_exporter": "python",
  "pygments_lexer": "ipython3",
  "version": 3,
  "kernelspec": {
   "name": "python3",
   "display_name": "Python 3"
  }
 },
 "cells": [
  {
   "cell_type": "markdown",
   "metadata": {},
   "source": [
    "## Import"
   ]
  },
  {
   "cell_type": "code",
   "execution_count": 89,
   "metadata": {},
   "outputs": [],
   "source": [
    "import ipywidgets as widgets \n",
    "from ipywidgets import interact, interact_manual \n",
    "import pandas as pd\n",
    "import numpy as np \n",
    "import matplotlib.pyplot as plt \n",
    "import seaborn as sns\n",
    "%matplotlib inline "
   ]
  },
  {
   "cell_type": "code",
   "execution_count": 133,
   "metadata": {},
   "outputs": [],
   "source": [
    "data = pd.read_csv(\"../Data/preprocessingData/K_20200414_preprocessing15.csv\",encoding='CP949')\n",
    "apartName = pd.read_csv(\"../Data/preprocessingData/K_20200414_PreprocessingPeriodApartName.csv\",encoding='CP949')"
   ]
  },
  {
   "cell_type": "code",
   "execution_count": 82,
   "metadata": {},
   "outputs": [
    {
     "output_type": "execute_result",
     "data": {
      "text/plain": "         Apart\n3563  중화동건영아파트\n3564     청원다미소\n3565     태능에셈빌\n3566   한영(101)\n3567   한영(104)",
      "text/html": "<div>\n<style scoped>\n    .dataframe tbody tr th:only-of-type {\n        vertical-align: middle;\n    }\n\n    .dataframe tbody tr th {\n        vertical-align: top;\n    }\n\n    .dataframe thead th {\n        text-align: right;\n    }\n</style>\n<table border=\"1\" class=\"dataframe\">\n  <thead>\n    <tr style=\"text-align: right;\">\n      <th></th>\n      <th>Apart</th>\n    </tr>\n  </thead>\n  <tbody>\n    <tr>\n      <td>3563</td>\n      <td>중화동건영아파트</td>\n    </tr>\n    <tr>\n      <td>3564</td>\n      <td>청원다미소</td>\n    </tr>\n    <tr>\n      <td>3565</td>\n      <td>태능에셈빌</td>\n    </tr>\n    <tr>\n      <td>3566</td>\n      <td>한영(101)</td>\n    </tr>\n    <tr>\n      <td>3567</td>\n      <td>한영(104)</td>\n    </tr>\n  </tbody>\n</table>\n</div>"
     },
     "metadata": {},
     "execution_count": 82
    }
   ],
   "source": [
    "data.tail()\n",
    "apartName.tail()"
   ]
  },
  {
   "cell_type": "code",
   "execution_count": 134,
   "metadata": {},
   "outputs": [],
   "source": [
    "data=data.fillna(method='pad')"
   ]
  },
  {
   "cell_type": "code",
   "execution_count": 135,
   "metadata": {},
   "outputs": [],
   "source": [
    "data=data.fillna(method='bfill')"
   ]
  },
  {
   "cell_type": "code",
   "execution_count": 136,
   "metadata": {},
   "outputs": [
    {
     "output_type": "stream",
     "name": "stdout",
     "text": "3568\n"
    },
    {
     "output_type": "execute_result",
     "data": {
      "text/plain": "3568"
     },
     "metadata": {},
     "execution_count": 136
    }
   ],
   "source": [
    "print(data.columns.isin(apartName['Apart']).sum())\n",
    "len(apartName['Apart'].unique())"
   ]
  },
  {
   "cell_type": "code",
   "execution_count": 137,
   "metadata": {},
   "outputs": [],
   "source": [
    "data = data.set_index('date')"
   ]
  },
  {
   "cell_type": "code",
   "execution_count": 138,
   "metadata": {},
   "outputs": [],
   "source": [
    "data = data[apartName['Apart'].unique()]"
   ]
  },
  {
   "cell_type": "code",
   "execution_count": 139,
   "metadata": {},
   "outputs": [
    {
     "output_type": "execute_result",
     "data": {
      "text/plain": "      개포2차현대아파트(220)  개포6차우성아파트1동~8동  개포우성3차  개포자이(12-2)  개포주공 1단지  개포주공 3단지  \\\ndate                                                                           \n2              820.0          1052.0   807.0       830.0      1638      1782   \n3              820.0          1052.0   870.0       871.0      1653      1792   \n4              820.0          1025.0   856.0       860.0      1649      1764   \n5              820.0          1070.0   843.0       860.0      1666      1822   \n6              820.0          1013.0   843.0       875.0      1734      1872   \n\n      개포주공 4단지  개포주공 5단지  개포주공 6단지  개포주공 7단지  ...  화성두산아파트  동구햇살아파트101동  \\\ndate                                          ...                         \n2         1577    1206.0      1155    1178.0  ...    445.0        436.0   \n3         1611    1184.0      1193    1179.0  ...    445.0        436.0   \n4         1602    1184.0      1178    1194.0  ...    472.0        436.0   \n5         1662    1237.0      1160    1214.0  ...    472.0        436.0   \n6         1718    1202.0      1182    1192.0  ...    478.0        436.0   \n\n      미영리치타운  미영리치타운103  범양프레체  중화동건영아파트  청원다미소  태능에셈빌  한영(101)  한영(104)  \ndate                                                                      \n2      418.0      412.0  652.0     323.0  419.0  358.0    331.0    330.0  \n3      418.0      412.0  652.0     323.0  419.0  358.0    331.0    330.0  \n4      425.0      412.0  652.0     323.0  419.0  390.0    331.0    330.0  \n5      425.0      412.0  652.0     323.0  419.0  365.0    331.0    330.0  \n6      425.0      412.0  652.0     342.0  419.0  377.0    331.0    330.0  \n\n[5 rows x 3568 columns]",
      "text/html": "<div>\n<style scoped>\n    .dataframe tbody tr th:only-of-type {\n        vertical-align: middle;\n    }\n\n    .dataframe tbody tr th {\n        vertical-align: top;\n    }\n\n    .dataframe thead th {\n        text-align: right;\n    }\n</style>\n<table border=\"1\" class=\"dataframe\">\n  <thead>\n    <tr style=\"text-align: right;\">\n      <th></th>\n      <th>개포2차현대아파트(220)</th>\n      <th>개포6차우성아파트1동~8동</th>\n      <th>개포우성3차</th>\n      <th>개포자이(12-2)</th>\n      <th>개포주공 1단지</th>\n      <th>개포주공 3단지</th>\n      <th>개포주공 4단지</th>\n      <th>개포주공 5단지</th>\n      <th>개포주공 6단지</th>\n      <th>개포주공 7단지</th>\n      <th>...</th>\n      <th>화성두산아파트</th>\n      <th>동구햇살아파트101동</th>\n      <th>미영리치타운</th>\n      <th>미영리치타운103</th>\n      <th>범양프레체</th>\n      <th>중화동건영아파트</th>\n      <th>청원다미소</th>\n      <th>태능에셈빌</th>\n      <th>한영(101)</th>\n      <th>한영(104)</th>\n    </tr>\n    <tr>\n      <th>date</th>\n      <th></th>\n      <th></th>\n      <th></th>\n      <th></th>\n      <th></th>\n      <th></th>\n      <th></th>\n      <th></th>\n      <th></th>\n      <th></th>\n      <th></th>\n      <th></th>\n      <th></th>\n      <th></th>\n      <th></th>\n      <th></th>\n      <th></th>\n      <th></th>\n      <th></th>\n      <th></th>\n      <th></th>\n    </tr>\n  </thead>\n  <tbody>\n    <tr>\n      <td>2</td>\n      <td>820.0</td>\n      <td>1052.0</td>\n      <td>807.0</td>\n      <td>830.0</td>\n      <td>1638</td>\n      <td>1782</td>\n      <td>1577</td>\n      <td>1206.0</td>\n      <td>1155</td>\n      <td>1178.0</td>\n      <td>...</td>\n      <td>445.0</td>\n      <td>436.0</td>\n      <td>418.0</td>\n      <td>412.0</td>\n      <td>652.0</td>\n      <td>323.0</td>\n      <td>419.0</td>\n      <td>358.0</td>\n      <td>331.0</td>\n      <td>330.0</td>\n    </tr>\n    <tr>\n      <td>3</td>\n      <td>820.0</td>\n      <td>1052.0</td>\n      <td>870.0</td>\n      <td>871.0</td>\n      <td>1653</td>\n      <td>1792</td>\n      <td>1611</td>\n      <td>1184.0</td>\n      <td>1193</td>\n      <td>1179.0</td>\n      <td>...</td>\n      <td>445.0</td>\n      <td>436.0</td>\n      <td>418.0</td>\n      <td>412.0</td>\n      <td>652.0</td>\n      <td>323.0</td>\n      <td>419.0</td>\n      <td>358.0</td>\n      <td>331.0</td>\n      <td>330.0</td>\n    </tr>\n    <tr>\n      <td>4</td>\n      <td>820.0</td>\n      <td>1025.0</td>\n      <td>856.0</td>\n      <td>860.0</td>\n      <td>1649</td>\n      <td>1764</td>\n      <td>1602</td>\n      <td>1184.0</td>\n      <td>1178</td>\n      <td>1194.0</td>\n      <td>...</td>\n      <td>472.0</td>\n      <td>436.0</td>\n      <td>425.0</td>\n      <td>412.0</td>\n      <td>652.0</td>\n      <td>323.0</td>\n      <td>419.0</td>\n      <td>390.0</td>\n      <td>331.0</td>\n      <td>330.0</td>\n    </tr>\n    <tr>\n      <td>5</td>\n      <td>820.0</td>\n      <td>1070.0</td>\n      <td>843.0</td>\n      <td>860.0</td>\n      <td>1666</td>\n      <td>1822</td>\n      <td>1662</td>\n      <td>1237.0</td>\n      <td>1160</td>\n      <td>1214.0</td>\n      <td>...</td>\n      <td>472.0</td>\n      <td>436.0</td>\n      <td>425.0</td>\n      <td>412.0</td>\n      <td>652.0</td>\n      <td>323.0</td>\n      <td>419.0</td>\n      <td>365.0</td>\n      <td>331.0</td>\n      <td>330.0</td>\n    </tr>\n    <tr>\n      <td>6</td>\n      <td>820.0</td>\n      <td>1013.0</td>\n      <td>843.0</td>\n      <td>875.0</td>\n      <td>1734</td>\n      <td>1872</td>\n      <td>1718</td>\n      <td>1202.0</td>\n      <td>1182</td>\n      <td>1192.0</td>\n      <td>...</td>\n      <td>478.0</td>\n      <td>436.0</td>\n      <td>425.0</td>\n      <td>412.0</td>\n      <td>652.0</td>\n      <td>342.0</td>\n      <td>419.0</td>\n      <td>377.0</td>\n      <td>331.0</td>\n      <td>330.0</td>\n    </tr>\n  </tbody>\n</table>\n<p>5 rows × 3568 columns</p>\n</div>"
     },
     "metadata": {},
     "execution_count": 139
    }
   ],
   "source": [
    "data.head()"
   ]
  },
  {
   "cell_type": "code",
   "execution_count": 141,
   "metadata": {},
   "outputs": [
    {
     "output_type": "execute_result",
     "data": {
      "text/plain": "      개포2차현대아파트(220)  개포6차우성아파트1동~8동    개포우성3차  개포자이(12-2)  개포주공 1단지  \\\ndate                                                                   \n2                NaN             NaN       NaN         NaN       NaN   \n3                0.0        0.000000  0.075170    0.048216  0.009116   \n4                0.0       -0.026001 -0.016223   -0.012710 -0.002423   \n5                0.0        0.042966 -0.015303    0.000000  0.010257   \n6                0.0       -0.054742  0.000000    0.017291  0.040005   \n\n      개포주공 3단지  개포주공 4단지  개포주공 5단지  개포주공 6단지  개포주공 7단지  ...   화성두산아파트  \\\ndate                                                    ...             \n2          NaN       NaN       NaN       NaN       NaN  ...       NaN   \n3     0.005596  0.021331 -0.018411  0.032371  0.000849  ...  0.000000   \n4    -0.015748 -0.005602  0.000000 -0.012653  0.012642  ...  0.058905   \n5     0.032351  0.036769  0.043791 -0.015398  0.016612  ...  0.000000   \n6     0.027073  0.033139 -0.028702  0.018788 -0.018288  ...  0.012632   \n\n      동구햇살아파트101동    미영리치타운  미영리치타운103  범양프레체  중화동건영아파트  청원다미소     태능에셈빌  \\\ndate                                                                       \n2             NaN       NaN        NaN    NaN       NaN    NaN       NaN   \n3             0.0  0.000000        0.0    0.0  0.000000    0.0  0.000000   \n4             0.0  0.016608        0.0    0.0  0.000000    0.0  0.085614   \n5             0.0  0.000000        0.0    0.0  0.000000    0.0 -0.066249   \n6             0.0  0.000000        0.0    0.0  0.057158    0.0  0.032348   \n\n      한영(101)  한영(104)  \ndate                    \n2         NaN      NaN  \n3         0.0      0.0  \n4         0.0      0.0  \n5         0.0      0.0  \n6         0.0      0.0  \n\n[5 rows x 3568 columns]",
      "text/html": "<div>\n<style scoped>\n    .dataframe tbody tr th:only-of-type {\n        vertical-align: middle;\n    }\n\n    .dataframe tbody tr th {\n        vertical-align: top;\n    }\n\n    .dataframe thead th {\n        text-align: right;\n    }\n</style>\n<table border=\"1\" class=\"dataframe\">\n  <thead>\n    <tr style=\"text-align: right;\">\n      <th></th>\n      <th>개포2차현대아파트(220)</th>\n      <th>개포6차우성아파트1동~8동</th>\n      <th>개포우성3차</th>\n      <th>개포자이(12-2)</th>\n      <th>개포주공 1단지</th>\n      <th>개포주공 3단지</th>\n      <th>개포주공 4단지</th>\n      <th>개포주공 5단지</th>\n      <th>개포주공 6단지</th>\n      <th>개포주공 7단지</th>\n      <th>...</th>\n      <th>화성두산아파트</th>\n      <th>동구햇살아파트101동</th>\n      <th>미영리치타운</th>\n      <th>미영리치타운103</th>\n      <th>범양프레체</th>\n      <th>중화동건영아파트</th>\n      <th>청원다미소</th>\n      <th>태능에셈빌</th>\n      <th>한영(101)</th>\n      <th>한영(104)</th>\n    </tr>\n    <tr>\n      <th>date</th>\n      <th></th>\n      <th></th>\n      <th></th>\n      <th></th>\n      <th></th>\n      <th></th>\n      <th></th>\n      <th></th>\n      <th></th>\n      <th></th>\n      <th></th>\n      <th></th>\n      <th></th>\n      <th></th>\n      <th></th>\n      <th></th>\n      <th></th>\n      <th></th>\n      <th></th>\n      <th></th>\n      <th></th>\n    </tr>\n  </thead>\n  <tbody>\n    <tr>\n      <td>2</td>\n      <td>NaN</td>\n      <td>NaN</td>\n      <td>NaN</td>\n      <td>NaN</td>\n      <td>NaN</td>\n      <td>NaN</td>\n      <td>NaN</td>\n      <td>NaN</td>\n      <td>NaN</td>\n      <td>NaN</td>\n      <td>...</td>\n      <td>NaN</td>\n      <td>NaN</td>\n      <td>NaN</td>\n      <td>NaN</td>\n      <td>NaN</td>\n      <td>NaN</td>\n      <td>NaN</td>\n      <td>NaN</td>\n      <td>NaN</td>\n      <td>NaN</td>\n    </tr>\n    <tr>\n      <td>3</td>\n      <td>0.0</td>\n      <td>0.000000</td>\n      <td>0.075170</td>\n      <td>0.048216</td>\n      <td>0.009116</td>\n      <td>0.005596</td>\n      <td>0.021331</td>\n      <td>-0.018411</td>\n      <td>0.032371</td>\n      <td>0.000849</td>\n      <td>...</td>\n      <td>0.000000</td>\n      <td>0.0</td>\n      <td>0.000000</td>\n      <td>0.0</td>\n      <td>0.0</td>\n      <td>0.000000</td>\n      <td>0.0</td>\n      <td>0.000000</td>\n      <td>0.0</td>\n      <td>0.0</td>\n    </tr>\n    <tr>\n      <td>4</td>\n      <td>0.0</td>\n      <td>-0.026001</td>\n      <td>-0.016223</td>\n      <td>-0.012710</td>\n      <td>-0.002423</td>\n      <td>-0.015748</td>\n      <td>-0.005602</td>\n      <td>0.000000</td>\n      <td>-0.012653</td>\n      <td>0.012642</td>\n      <td>...</td>\n      <td>0.058905</td>\n      <td>0.0</td>\n      <td>0.016608</td>\n      <td>0.0</td>\n      <td>0.0</td>\n      <td>0.000000</td>\n      <td>0.0</td>\n      <td>0.085614</td>\n      <td>0.0</td>\n      <td>0.0</td>\n    </tr>\n    <tr>\n      <td>5</td>\n      <td>0.0</td>\n      <td>0.042966</td>\n      <td>-0.015303</td>\n      <td>0.000000</td>\n      <td>0.010257</td>\n      <td>0.032351</td>\n      <td>0.036769</td>\n      <td>0.043791</td>\n      <td>-0.015398</td>\n      <td>0.016612</td>\n      <td>...</td>\n      <td>0.000000</td>\n      <td>0.0</td>\n      <td>0.000000</td>\n      <td>0.0</td>\n      <td>0.0</td>\n      <td>0.000000</td>\n      <td>0.0</td>\n      <td>-0.066249</td>\n      <td>0.0</td>\n      <td>0.0</td>\n    </tr>\n    <tr>\n      <td>6</td>\n      <td>0.0</td>\n      <td>-0.054742</td>\n      <td>0.000000</td>\n      <td>0.017291</td>\n      <td>0.040005</td>\n      <td>0.027073</td>\n      <td>0.033139</td>\n      <td>-0.028702</td>\n      <td>0.018788</td>\n      <td>-0.018288</td>\n      <td>...</td>\n      <td>0.012632</td>\n      <td>0.0</td>\n      <td>0.000000</td>\n      <td>0.0</td>\n      <td>0.0</td>\n      <td>0.057158</td>\n      <td>0.0</td>\n      <td>0.032348</td>\n      <td>0.0</td>\n      <td>0.0</td>\n    </tr>\n  </tbody>\n</table>\n<p>5 rows × 3568 columns</p>\n</div>"
     },
     "metadata": {},
     "execution_count": 141
    }
   ],
   "source": [
    "log_data = np.log(data/data.shift(1))\n",
    "log_data.head()"
   ]
  },
  {
   "cell_type": "code",
   "execution_count": 144,
   "metadata": {},
   "outputs": [
    {
     "output_type": "execute_result",
     "data": {
      "text/plain": "      개포2차현대아파트(220)  개포6차우성아파트1동~8동    개포우성3차  개포자이(12-2)  개포주공 1단지  \\\ndate                                                                   \n3                0.0        0.000000  0.075170    0.048216  0.009116   \n4                0.0       -0.026001 -0.016223   -0.012710 -0.002423   \n5                0.0        0.042966 -0.015303    0.000000  0.010257   \n6                0.0       -0.054742  0.000000    0.017291  0.040005   \n7                0.0        0.006886  0.058739    0.067392  0.010898   \n\n      개포주공 3단지  개포주공 4단지  개포주공 5단지  개포주공 6단지  개포주공 7단지  ...   화성두산아파트  \\\ndate                                                    ...             \n3     0.005596  0.021331 -0.018411  0.032371  0.000849  ...  0.000000   \n4    -0.015748 -0.005602  0.000000 -0.012653  0.012642  ...  0.058905   \n5     0.032351  0.036769  0.043791 -0.015398  0.016612  ...  0.000000   \n6     0.027073  0.033139 -0.028702  0.018788 -0.018288  ...  0.012632   \n7     0.068138  0.041055  0.055817 -0.094887  0.064958  ... -0.034046   \n\n      동구햇살아파트101동    미영리치타운  미영리치타운103  범양프레체  중화동건영아파트  청원다미소     태능에셈빌  \\\ndate                                                                       \n3        0.000000  0.000000        0.0    0.0  0.000000    0.0  0.000000   \n4        0.000000  0.016608        0.0    0.0  0.000000    0.0  0.085614   \n5        0.000000  0.000000        0.0    0.0  0.000000    0.0 -0.066249   \n6        0.000000  0.000000        0.0    0.0  0.057158    0.0  0.032348   \n7        0.031605 -0.043276        0.0    0.0 -0.023670    0.0  0.000000   \n\n      한영(101)  한영(104)  \ndate                    \n3         0.0      0.0  \n4         0.0      0.0  \n5         0.0      0.0  \n6         0.0      0.0  \n7         0.0      0.0  \n\n[5 rows x 3568 columns]",
      "text/html": "<div>\n<style scoped>\n    .dataframe tbody tr th:only-of-type {\n        vertical-align: middle;\n    }\n\n    .dataframe tbody tr th {\n        vertical-align: top;\n    }\n\n    .dataframe thead th {\n        text-align: right;\n    }\n</style>\n<table border=\"1\" class=\"dataframe\">\n  <thead>\n    <tr style=\"text-align: right;\">\n      <th></th>\n      <th>개포2차현대아파트(220)</th>\n      <th>개포6차우성아파트1동~8동</th>\n      <th>개포우성3차</th>\n      <th>개포자이(12-2)</th>\n      <th>개포주공 1단지</th>\n      <th>개포주공 3단지</th>\n      <th>개포주공 4단지</th>\n      <th>개포주공 5단지</th>\n      <th>개포주공 6단지</th>\n      <th>개포주공 7단지</th>\n      <th>...</th>\n      <th>화성두산아파트</th>\n      <th>동구햇살아파트101동</th>\n      <th>미영리치타운</th>\n      <th>미영리치타운103</th>\n      <th>범양프레체</th>\n      <th>중화동건영아파트</th>\n      <th>청원다미소</th>\n      <th>태능에셈빌</th>\n      <th>한영(101)</th>\n      <th>한영(104)</th>\n    </tr>\n    <tr>\n      <th>date</th>\n      <th></th>\n      <th></th>\n      <th></th>\n      <th></th>\n      <th></th>\n      <th></th>\n      <th></th>\n      <th></th>\n      <th></th>\n      <th></th>\n      <th></th>\n      <th></th>\n      <th></th>\n      <th></th>\n      <th></th>\n      <th></th>\n      <th></th>\n      <th></th>\n      <th></th>\n      <th></th>\n      <th></th>\n    </tr>\n  </thead>\n  <tbody>\n    <tr>\n      <td>3</td>\n      <td>0.0</td>\n      <td>0.000000</td>\n      <td>0.075170</td>\n      <td>0.048216</td>\n      <td>0.009116</td>\n      <td>0.005596</td>\n      <td>0.021331</td>\n      <td>-0.018411</td>\n      <td>0.032371</td>\n      <td>0.000849</td>\n      <td>...</td>\n      <td>0.000000</td>\n      <td>0.000000</td>\n      <td>0.000000</td>\n      <td>0.0</td>\n      <td>0.0</td>\n      <td>0.000000</td>\n      <td>0.0</td>\n      <td>0.000000</td>\n      <td>0.0</td>\n      <td>0.0</td>\n    </tr>\n    <tr>\n      <td>4</td>\n      <td>0.0</td>\n      <td>-0.026001</td>\n      <td>-0.016223</td>\n      <td>-0.012710</td>\n      <td>-0.002423</td>\n      <td>-0.015748</td>\n      <td>-0.005602</td>\n      <td>0.000000</td>\n      <td>-0.012653</td>\n      <td>0.012642</td>\n      <td>...</td>\n      <td>0.058905</td>\n      <td>0.000000</td>\n      <td>0.016608</td>\n      <td>0.0</td>\n      <td>0.0</td>\n      <td>0.000000</td>\n      <td>0.0</td>\n      <td>0.085614</td>\n      <td>0.0</td>\n      <td>0.0</td>\n    </tr>\n    <tr>\n      <td>5</td>\n      <td>0.0</td>\n      <td>0.042966</td>\n      <td>-0.015303</td>\n      <td>0.000000</td>\n      <td>0.010257</td>\n      <td>0.032351</td>\n      <td>0.036769</td>\n      <td>0.043791</td>\n      <td>-0.015398</td>\n      <td>0.016612</td>\n      <td>...</td>\n      <td>0.000000</td>\n      <td>0.000000</td>\n      <td>0.000000</td>\n      <td>0.0</td>\n      <td>0.0</td>\n      <td>0.000000</td>\n      <td>0.0</td>\n      <td>-0.066249</td>\n      <td>0.0</td>\n      <td>0.0</td>\n    </tr>\n    <tr>\n      <td>6</td>\n      <td>0.0</td>\n      <td>-0.054742</td>\n      <td>0.000000</td>\n      <td>0.017291</td>\n      <td>0.040005</td>\n      <td>0.027073</td>\n      <td>0.033139</td>\n      <td>-0.028702</td>\n      <td>0.018788</td>\n      <td>-0.018288</td>\n      <td>...</td>\n      <td>0.012632</td>\n      <td>0.000000</td>\n      <td>0.000000</td>\n      <td>0.0</td>\n      <td>0.0</td>\n      <td>0.057158</td>\n      <td>0.0</td>\n      <td>0.032348</td>\n      <td>0.0</td>\n      <td>0.0</td>\n    </tr>\n    <tr>\n      <td>7</td>\n      <td>0.0</td>\n      <td>0.006886</td>\n      <td>0.058739</td>\n      <td>0.067392</td>\n      <td>0.010898</td>\n      <td>0.068138</td>\n      <td>0.041055</td>\n      <td>0.055817</td>\n      <td>-0.094887</td>\n      <td>0.064958</td>\n      <td>...</td>\n      <td>-0.034046</td>\n      <td>0.031605</td>\n      <td>-0.043276</td>\n      <td>0.0</td>\n      <td>0.0</td>\n      <td>-0.023670</td>\n      <td>0.0</td>\n      <td>0.000000</td>\n      <td>0.0</td>\n      <td>0.0</td>\n    </tr>\n  </tbody>\n</table>\n<p>5 rows × 3568 columns</p>\n</div>"
     },
     "metadata": {},
     "execution_count": 144
    }
   ],
   "source": [
    "log_data = log_data.dropna() \n",
    "log_data.head()"
   ]
  },
  {
   "cell_type": "code",
   "execution_count": 146,
   "metadata": {},
   "outputs": [
    {
     "output_type": "execute_result",
     "data": {
      "text/plain": "개포2차현대아파트(220)    0.007674\n개포6차우성아파트1동~8동    0.001611\n개포우성3차            0.011124\n개포자이(12-2)        0.004664\n개포주공 1단지          0.014083\n                    ...   \n중화동건영아파트          0.013647\n청원다미소            -0.003136\n태능에셈빌             0.010725\n한영(101)          -0.002638\n한영(104)           0.000000\nLength: 3568, dtype: float64"
     },
     "metadata": {},
     "execution_count": 146
    }
   ],
   "source": [
    "mu = log_data.mean() \n",
    "mu"
   ]
  },
  {
   "cell_type": "code",
   "execution_count": 213,
   "metadata": {},
   "outputs": [],
   "source": [
    "mu_year = log_data.mean()*13\n",
    "expect=pd.DataFrame(mu_year)\n",
    "expect=expect.rename({0:'expect'},axis='columns')"
   ]
  },
  {
   "cell_type": "code",
   "execution_count": 216,
   "metadata": {},
   "outputs": [],
   "source": [
    "risk=log_data.std() * np.sqrt(13)\n",
    "risk = pd.DataFrame(risk)\n",
    "risk=risk.rename({0:'risk'},axis='columns')"
   ]
  },
  {
   "cell_type": "code",
   "execution_count": 223,
   "metadata": {},
   "outputs": [
    {
     "output_type": "execute_result",
     "data": {
      "text/plain": "                  expect      risk\n개포2차현대아파트(220)  0.099758  0.126664\n개포6차우성아파트1동~8동  0.020946  0.093045\n개포우성3차          0.144618  0.116537\n개포자이(12-2)      0.060628  0.167435\n개포주공 1단지        0.183085  0.105601\n...                  ...       ...\n중화동건영아파트        0.177408  0.111506\n청원다미소          -0.040773  0.064594\n태능에셈빌           0.139427  0.135037\n한영(101)        -0.034290  0.035584\n한영(104)         0.000000  0.000000\n\n[3568 rows x 2 columns]",
      "text/html": "<div>\n<style scoped>\n    .dataframe tbody tr th:only-of-type {\n        vertical-align: middle;\n    }\n\n    .dataframe tbody tr th {\n        vertical-align: top;\n    }\n\n    .dataframe thead th {\n        text-align: right;\n    }\n</style>\n<table border=\"1\" class=\"dataframe\">\n  <thead>\n    <tr style=\"text-align: right;\">\n      <th></th>\n      <th>expect</th>\n      <th>risk</th>\n    </tr>\n  </thead>\n  <tbody>\n    <tr>\n      <td>개포2차현대아파트(220)</td>\n      <td>0.099758</td>\n      <td>0.126664</td>\n    </tr>\n    <tr>\n      <td>개포6차우성아파트1동~8동</td>\n      <td>0.020946</td>\n      <td>0.093045</td>\n    </tr>\n    <tr>\n      <td>개포우성3차</td>\n      <td>0.144618</td>\n      <td>0.116537</td>\n    </tr>\n    <tr>\n      <td>개포자이(12-2)</td>\n      <td>0.060628</td>\n      <td>0.167435</td>\n    </tr>\n    <tr>\n      <td>개포주공 1단지</td>\n      <td>0.183085</td>\n      <td>0.105601</td>\n    </tr>\n    <tr>\n      <td>...</td>\n      <td>...</td>\n      <td>...</td>\n    </tr>\n    <tr>\n      <td>중화동건영아파트</td>\n      <td>0.177408</td>\n      <td>0.111506</td>\n    </tr>\n    <tr>\n      <td>청원다미소</td>\n      <td>-0.040773</td>\n      <td>0.064594</td>\n    </tr>\n    <tr>\n      <td>태능에셈빌</td>\n      <td>0.139427</td>\n      <td>0.135037</td>\n    </tr>\n    <tr>\n      <td>한영(101)</td>\n      <td>-0.034290</td>\n      <td>0.035584</td>\n    </tr>\n    <tr>\n      <td>한영(104)</td>\n      <td>0.000000</td>\n      <td>0.000000</td>\n    </tr>\n  </tbody>\n</table>\n<p>3568 rows × 2 columns</p>\n</div>"
     },
     "metadata": {},
     "execution_count": 223
    }
   ],
   "source": [
    "er=pd.concat([expect,risk],axis=1)\n",
    "er"
   ]
  },
  {
   "cell_type": "code",
   "execution_count": 220,
   "metadata": {},
   "outputs": [],
   "source": [
    "apartName['pps']=pd.to_numeric(apartName['pps'])\n",
    "apart = apartName.groupby(apartName['Apart']).mean()"
   ]
  },
  {
   "cell_type": "code",
   "execution_count": 228,
   "metadata": {},
   "outputs": [
    {
     "output_type": "execute_result",
     "data": {
      "text/plain": "                        pps    expect      risk\n(1101-1)         792.250000  0.132342  0.264974\n(145-0)          734.000000  0.051944  0.350263\n(191-8)중앙궁전빌라트   366.000000 -0.127791  0.132615\n(23-42)          363.000000  0.000000  0.000000\n(323-4)          468.000000  0.116091  0.081962\n...                     ...       ...       ...\n힐타워              541.000000  0.116910  0.266030\n힐탑               366.000000  0.057564  0.177707\n힐탑아파트3차(894-3)   293.000000 -0.101946  0.172712\n힐탑트레져1동         1252.666667 -0.112313  0.165880\n힐튼빌리지1차          577.000000  0.029429  0.030540\n\n[3568 rows x 3 columns]",
      "text/html": "<div>\n<style scoped>\n    .dataframe tbody tr th:only-of-type {\n        vertical-align: middle;\n    }\n\n    .dataframe tbody tr th {\n        vertical-align: top;\n    }\n\n    .dataframe thead th {\n        text-align: right;\n    }\n</style>\n<table border=\"1\" class=\"dataframe\">\n  <thead>\n    <tr style=\"text-align: right;\">\n      <th></th>\n      <th>pps</th>\n      <th>expect</th>\n      <th>risk</th>\n    </tr>\n  </thead>\n  <tbody>\n    <tr>\n      <td>(1101-1)</td>\n      <td>792.250000</td>\n      <td>0.132342</td>\n      <td>0.264974</td>\n    </tr>\n    <tr>\n      <td>(145-0)</td>\n      <td>734.000000</td>\n      <td>0.051944</td>\n      <td>0.350263</td>\n    </tr>\n    <tr>\n      <td>(191-8)중앙궁전빌라트</td>\n      <td>366.000000</td>\n      <td>-0.127791</td>\n      <td>0.132615</td>\n    </tr>\n    <tr>\n      <td>(23-42)</td>\n      <td>363.000000</td>\n      <td>0.000000</td>\n      <td>0.000000</td>\n    </tr>\n    <tr>\n      <td>(323-4)</td>\n      <td>468.000000</td>\n      <td>0.116091</td>\n      <td>0.081962</td>\n    </tr>\n    <tr>\n      <td>...</td>\n      <td>...</td>\n      <td>...</td>\n      <td>...</td>\n    </tr>\n    <tr>\n      <td>힐타워</td>\n      <td>541.000000</td>\n      <td>0.116910</td>\n      <td>0.266030</td>\n    </tr>\n    <tr>\n      <td>힐탑</td>\n      <td>366.000000</td>\n      <td>0.057564</td>\n      <td>0.177707</td>\n    </tr>\n    <tr>\n      <td>힐탑아파트3차(894-3)</td>\n      <td>293.000000</td>\n      <td>-0.101946</td>\n      <td>0.172712</td>\n    </tr>\n    <tr>\n      <td>힐탑트레져1동</td>\n      <td>1252.666667</td>\n      <td>-0.112313</td>\n      <td>0.165880</td>\n    </tr>\n    <tr>\n      <td>힐튼빌리지1차</td>\n      <td>577.000000</td>\n      <td>0.029429</td>\n      <td>0.030540</td>\n    </tr>\n  </tbody>\n</table>\n<p>3568 rows × 3 columns</p>\n</div>"
     },
     "metadata": {},
     "execution_count": 228
    }
   ],
   "source": [
    "per=pd.concat([apart,er],axis=1)\n",
    "per"
   ]
  },
  {
   "cell_type": "code",
   "execution_count": 229,
   "metadata": {},
   "outputs": [
    {
     "output_type": "execute_result",
     "data": {
      "text/plain": "pps       366.000000\nexpect      0.057564\nrisk        0.177707\nName: 힐탑, dtype: float64"
     },
     "metadata": {},
     "execution_count": 229
    }
   ],
   "source": [
    "per.loc['힐탑']"
   ]
  },
  {
   "cell_type": "markdown",
   "metadata": {},
   "source": []
  }
 ]
}