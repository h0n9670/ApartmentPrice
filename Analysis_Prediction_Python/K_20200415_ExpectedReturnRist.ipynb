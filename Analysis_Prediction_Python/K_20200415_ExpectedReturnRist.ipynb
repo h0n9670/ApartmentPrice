{
 "nbformat": 4,
 "nbformat_minor": 2,
 "metadata": {
  "language_info": {
   "name": "python",
   "codemirror_mode": {
    "name": "ipython",
    "version": 3
   },
   "version": "3.7.4-final"
  },
  "orig_nbformat": 2,
  "file_extension": ".py",
  "mimetype": "text/x-python",
  "name": "python",
  "npconvert_exporter": "python",
  "pygments_lexer": "ipython3",
  "version": 3,
  "kernelspec": {
   "name": "python3",
   "display_name": "Python 3"
  }
 },
 "cells": [
  {
   "cell_type": "code",
   "execution_count": 1,
   "metadata": {},
   "outputs": [],
   "source": [
    "import ipywidgets as widgets \n",
    "from ipywidgets import interact, interact_manual \n",
    "import pandas as pd\n",
    "import numpy as np \n",
    "import matplotlib.pyplot as plt \n",
    "%matplotlib inline "
   ]
  },
  {
   "cell_type": "code",
   "execution_count": 8,
   "metadata": {},
   "outputs": [],
   "source": [
    "data = pd.read_csv(\"../Data/preprocessingData/K_20200414_preprocessing15.csv\",encoding='CP949')"
   ]
  },
  {
   "cell_type": "code",
   "execution_count": 9,
   "metadata": {},
   "outputs": [
    {
     "output_type": "execute_result",
     "data": {
      "text/plain": "   date  (1101-1)  (13-21)  (145-0)  (1617-21)  (185-5)  (191-8)중앙궁전빌라트  \\\n0     2     692.0      NaN      NaN        NaN      NaN             NaN   \n1     3     754.0    481.0      NaN        NaN      NaN           420.0   \n2     4       NaN      NaN      NaN        NaN      NaN             NaN   \n3     5     692.0    529.0    730.0        NaN      NaN             NaN   \n4     6     769.0      NaN    864.0        NaN      NaN             NaN   \n\n   (20-3)  (204-11)  (246-11)  ...    힐타운    힐타워     힐탑  힐탑아파트3차(894-3)  \\\n0     NaN       NaN       NaN  ...    NaN    NaN    NaN           327.0   \n1     NaN       NaN       NaN  ...    NaN    NaN  344.0           277.0   \n2     NaN       NaN     416.0  ...    NaN  477.0  330.0             NaN   \n3     NaN       NaN       NaN  ...    NaN  520.0    NaN             NaN   \n4     NaN       NaN       NaN  ...  347.0  634.0  366.0             NaN   \n\n   힐탑아파트4차(894-5)  힐탑이루미  힐탑트레져1동     힐튼  힐튼빌리지1차  힐튼빌리지2차  \n0             NaN  345.0      NaN    NaN      NaN      NaN  \n1             NaN  354.0      NaN  293.0      NaN      NaN  \n2             NaN  363.0      NaN    NaN      NaN      NaN  \n3             NaN    NaN      NaN    NaN      NaN      NaN  \n4           340.0    NaN      NaN    NaN      NaN      NaN  \n\n[5 rows x 5512 columns]",
      "text/html": "<div>\n<style scoped>\n    .dataframe tbody tr th:only-of-type {\n        vertical-align: middle;\n    }\n\n    .dataframe tbody tr th {\n        vertical-align: top;\n    }\n\n    .dataframe thead th {\n        text-align: right;\n    }\n</style>\n<table border=\"1\" class=\"dataframe\">\n  <thead>\n    <tr style=\"text-align: right;\">\n      <th></th>\n      <th>date</th>\n      <th>(1101-1)</th>\n      <th>(13-21)</th>\n      <th>(145-0)</th>\n      <th>(1617-21)</th>\n      <th>(185-5)</th>\n      <th>(191-8)중앙궁전빌라트</th>\n      <th>(20-3)</th>\n      <th>(204-11)</th>\n      <th>(246-11)</th>\n      <th>...</th>\n      <th>힐타운</th>\n      <th>힐타워</th>\n      <th>힐탑</th>\n      <th>힐탑아파트3차(894-3)</th>\n      <th>힐탑아파트4차(894-5)</th>\n      <th>힐탑이루미</th>\n      <th>힐탑트레져1동</th>\n      <th>힐튼</th>\n      <th>힐튼빌리지1차</th>\n      <th>힐튼빌리지2차</th>\n    </tr>\n  </thead>\n  <tbody>\n    <tr>\n      <td>0</td>\n      <td>2</td>\n      <td>692.0</td>\n      <td>NaN</td>\n      <td>NaN</td>\n      <td>NaN</td>\n      <td>NaN</td>\n      <td>NaN</td>\n      <td>NaN</td>\n      <td>NaN</td>\n      <td>NaN</td>\n      <td>...</td>\n      <td>NaN</td>\n      <td>NaN</td>\n      <td>NaN</td>\n      <td>327.0</td>\n      <td>NaN</td>\n      <td>345.0</td>\n      <td>NaN</td>\n      <td>NaN</td>\n      <td>NaN</td>\n      <td>NaN</td>\n    </tr>\n    <tr>\n      <td>1</td>\n      <td>3</td>\n      <td>754.0</td>\n      <td>481.0</td>\n      <td>NaN</td>\n      <td>NaN</td>\n      <td>NaN</td>\n      <td>420.0</td>\n      <td>NaN</td>\n      <td>NaN</td>\n      <td>NaN</td>\n      <td>...</td>\n      <td>NaN</td>\n      <td>NaN</td>\n      <td>344.0</td>\n      <td>277.0</td>\n      <td>NaN</td>\n      <td>354.0</td>\n      <td>NaN</td>\n      <td>293.0</td>\n      <td>NaN</td>\n      <td>NaN</td>\n    </tr>\n    <tr>\n      <td>2</td>\n      <td>4</td>\n      <td>NaN</td>\n      <td>NaN</td>\n      <td>NaN</td>\n      <td>NaN</td>\n      <td>NaN</td>\n      <td>NaN</td>\n      <td>NaN</td>\n      <td>NaN</td>\n      <td>416.0</td>\n      <td>...</td>\n      <td>NaN</td>\n      <td>477.0</td>\n      <td>330.0</td>\n      <td>NaN</td>\n      <td>NaN</td>\n      <td>363.0</td>\n      <td>NaN</td>\n      <td>NaN</td>\n      <td>NaN</td>\n      <td>NaN</td>\n    </tr>\n    <tr>\n      <td>3</td>\n      <td>5</td>\n      <td>692.0</td>\n      <td>529.0</td>\n      <td>730.0</td>\n      <td>NaN</td>\n      <td>NaN</td>\n      <td>NaN</td>\n      <td>NaN</td>\n      <td>NaN</td>\n      <td>NaN</td>\n      <td>...</td>\n      <td>NaN</td>\n      <td>520.0</td>\n      <td>NaN</td>\n      <td>NaN</td>\n      <td>NaN</td>\n      <td>NaN</td>\n      <td>NaN</td>\n      <td>NaN</td>\n      <td>NaN</td>\n      <td>NaN</td>\n    </tr>\n    <tr>\n      <td>4</td>\n      <td>6</td>\n      <td>769.0</td>\n      <td>NaN</td>\n      <td>864.0</td>\n      <td>NaN</td>\n      <td>NaN</td>\n      <td>NaN</td>\n      <td>NaN</td>\n      <td>NaN</td>\n      <td>NaN</td>\n      <td>...</td>\n      <td>347.0</td>\n      <td>634.0</td>\n      <td>366.0</td>\n      <td>NaN</td>\n      <td>340.0</td>\n      <td>NaN</td>\n      <td>NaN</td>\n      <td>NaN</td>\n      <td>NaN</td>\n      <td>NaN</td>\n    </tr>\n  </tbody>\n</table>\n<p>5 rows × 5512 columns</p>\n</div>"
     },
     "metadata": {},
     "execution_count": 9
    }
   ],
   "source": [
    "data.head()"
   ]
  }
 ]
}